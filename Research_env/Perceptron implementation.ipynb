{
 "cells": [
  {
   "cell_type": "code",
   "execution_count": 20,
   "id": "3582aa46",
   "metadata": {},
   "outputs": [],
   "source": [
    "import os\n",
    "import matplotlib.pyplot as plt\n",
    "import joblib\n",
    "import numpy as np\n",
    "import pandas as pd\n",
    "plt.style.use(\"fivethirtyeight\")\n",
    "\n"
   ]
  },
  {
   "cell_type": "code",
   "execution_count": 59,
   "id": "504a72d3",
   "metadata": {},
   "outputs": [],
   "source": [
    "class perceptron:\n",
    "    def __init__(self, eta: float = None, epochs: int=None):\n",
    "        self.weights = np.random.randn(3)*1e-4\n",
    "        self.eta = eta #learning rate\n",
    "        self.epochs = epochs # iterations\n",
    "    \n",
    "    def _z_outcome(self,inputs,weights):\n",
    "        return np.dot(inputs,weights) # it will multiply directly without transposing\n",
    "    \n",
    "    def activation_function(self,z):\n",
    "        return np.where(z > 0, 1, 0)\n",
    "    \n",
    "    def fit(self, x, y):\n",
    "        self.x = x\n",
    "        self.y = y\n",
    "        \n",
    "        x_with_bias = np.c_[self.x,-np.ones((len(self.x),1))]\n",
    "        print(f\"x with bias: \\n{x_with_bias}\")\n",
    "        \n",
    "        \n",
    "        for epoch in range(self.epochs):\n",
    "            \n",
    "            print(\"--\"*10)\n",
    "            print(f\"for epoch >> {epoch+1}\")\n",
    "            print(\"--\"*10)\n",
    "            z = self._z_outcome(x_with_bias, self.weights)\n",
    "            y_hat =self.activation_function(z)\n",
    "            \n",
    "            print (f\"predicted value after forward pass: \\n{y_hat}\")\n",
    "            \n",
    "            self.error =self.y - y_hat\n",
    "            \n",
    "            print(f\"error: \\n{self.error}\")\n",
    "            self.weights = self.weights +self.eta *np.dot(x_with_bias.T, self.error)\n",
    "            print(f\"updated weights after epoch:{epoch+1}/{self.epochs} \\n{self.weights}\")\n",
    "    \n",
    "    def predict(self,x):\n",
    "        x_with_bias =  np.c_[x,-np.ones((len(x),1))]\n",
    "        z =self._z_outcome(x_with_bias,self.weights)\n",
    "        return self.activation_function(z)"
   ]
  },
  {
   "cell_type": "code",
   "execution_count": 60,
   "id": "60193f83",
   "metadata": {},
   "outputs": [
    {
     "data": {
      "text/html": [
       "<div>\n",
       "<style scoped>\n",
       "    .dataframe tbody tr th:only-of-type {\n",
       "        vertical-align: middle;\n",
       "    }\n",
       "\n",
       "    .dataframe tbody tr th {\n",
       "        vertical-align: top;\n",
       "    }\n",
       "\n",
       "    .dataframe thead th {\n",
       "        text-align: right;\n",
       "    }\n",
       "</style>\n",
       "<table border=\"1\" class=\"dataframe\">\n",
       "  <thead>\n",
       "    <tr style=\"text-align: right;\">\n",
       "      <th></th>\n",
       "      <th>x1</th>\n",
       "      <th>x2</th>\n",
       "      <th>y</th>\n",
       "    </tr>\n",
       "  </thead>\n",
       "  <tbody>\n",
       "    <tr>\n",
       "      <th>0</th>\n",
       "      <td>0</td>\n",
       "      <td>0</td>\n",
       "      <td>0</td>\n",
       "    </tr>\n",
       "    <tr>\n",
       "      <th>1</th>\n",
       "      <td>0</td>\n",
       "      <td>1</td>\n",
       "      <td>1</td>\n",
       "    </tr>\n",
       "    <tr>\n",
       "      <th>2</th>\n",
       "      <td>1</td>\n",
       "      <td>0</td>\n",
       "      <td>1</td>\n",
       "    </tr>\n",
       "    <tr>\n",
       "      <th>3</th>\n",
       "      <td>1</td>\n",
       "      <td>1</td>\n",
       "      <td>1</td>\n",
       "    </tr>\n",
       "  </tbody>\n",
       "</table>\n",
       "</div>"
      ],
      "text/plain": [
       "   x1  x2  y\n",
       "0   0   0  0\n",
       "1   0   1  1\n",
       "2   1   0  1\n",
       "3   1   1  1"
      ]
     },
     "execution_count": 60,
     "metadata": {},
     "output_type": "execute_result"
    }
   ],
   "source": [
    "OR = {\n",
    "    \"x1\" : [0,0,1,1],\n",
    "    \"x2\" : [0,1,0,1],\n",
    "    \"y\"  : [0,1,1,1]\n",
    "}\n",
    "\n",
    "df_OR =pd.DataFrame(OR)\n",
    "df_OR"
   ]
  },
  {
   "cell_type": "code",
   "execution_count": 61,
   "id": "c92b0d11",
   "metadata": {},
   "outputs": [
    {
     "data": {
      "text/plain": [
       "array([[-1.],\n",
       "       [-1.],\n",
       "       [-1.],\n",
       "       [-1.]])"
      ]
     },
     "execution_count": 61,
     "metadata": {},
     "output_type": "execute_result"
    }
   ],
   "source": [
    "-np.ones((4,1))"
   ]
  },
  {
   "cell_type": "code",
   "execution_count": 62,
   "id": "9dbe8c91",
   "metadata": {},
   "outputs": [],
   "source": [
    "def prepare_data(df, target_col =\"y\"):\n",
    "    x =df.drop(target_col, axis =1)\n",
    "    y  = df[target_col]\n",
    "    \n",
    "    return x,y"
   ]
  },
  {
   "cell_type": "code",
   "execution_count": 63,
   "id": "63a23d9a",
   "metadata": {},
   "outputs": [
    {
     "name": "stdout",
     "output_type": "stream",
     "text": [
      "x with bias: \n",
      "[[ 0.  0. -1.]\n",
      " [ 0.  1. -1.]\n",
      " [ 1.  0. -1.]\n",
      " [ 1.  1. -1.]]\n",
      "--------------------\n",
      "for epoch >> 1\n",
      "--------------------\n",
      "predicted value after forward pass: \n",
      "[1 1 1 1]\n",
      "error: \n",
      "0   -1\n",
      "1    0\n",
      "2    0\n",
      "3    0\n",
      "Name: y, dtype: int64\n",
      "updated weights after epoch:1/10 \n",
      "[3.46221491e-06 4.92114927e-05 9.98697199e-02]\n",
      "--------------------\n",
      "for epoch >> 2\n",
      "--------------------\n",
      "predicted value after forward pass: \n",
      "[0 0 0 0]\n",
      "error: \n",
      "0    0\n",
      "1    1\n",
      "2    1\n",
      "3    1\n",
      "Name: y, dtype: int64\n",
      "updated weights after epoch:2/10 \n",
      "[ 0.20000346  0.20004921 -0.20013028]\n",
      "--------------------\n",
      "for epoch >> 3\n",
      "--------------------\n",
      "predicted value after forward pass: \n",
      "[1 1 1 1]\n",
      "error: \n",
      "0   -1\n",
      "1    0\n",
      "2    0\n",
      "3    0\n",
      "Name: y, dtype: int64\n",
      "updated weights after epoch:3/10 \n",
      "[ 0.20000346  0.20004921 -0.10013028]\n",
      "--------------------\n",
      "for epoch >> 4\n",
      "--------------------\n",
      "predicted value after forward pass: \n",
      "[1 1 1 1]\n",
      "error: \n",
      "0   -1\n",
      "1    0\n",
      "2    0\n",
      "3    0\n",
      "Name: y, dtype: int64\n",
      "updated weights after epoch:4/10 \n",
      "[ 2.00003462e-01  2.00049211e-01 -1.30280062e-04]\n",
      "--------------------\n",
      "for epoch >> 5\n",
      "--------------------\n",
      "predicted value after forward pass: \n",
      "[1 1 1 1]\n",
      "error: \n",
      "0   -1\n",
      "1    0\n",
      "2    0\n",
      "3    0\n",
      "Name: y, dtype: int64\n",
      "updated weights after epoch:5/10 \n",
      "[0.20000346 0.20004921 0.09986972]\n",
      "--------------------\n",
      "for epoch >> 6\n",
      "--------------------\n",
      "predicted value after forward pass: \n",
      "[0 1 1 1]\n",
      "error: \n",
      "0    0\n",
      "1    0\n",
      "2    0\n",
      "3    0\n",
      "Name: y, dtype: int64\n",
      "updated weights after epoch:6/10 \n",
      "[0.20000346 0.20004921 0.09986972]\n",
      "--------------------\n",
      "for epoch >> 7\n",
      "--------------------\n",
      "predicted value after forward pass: \n",
      "[0 1 1 1]\n",
      "error: \n",
      "0    0\n",
      "1    0\n",
      "2    0\n",
      "3    0\n",
      "Name: y, dtype: int64\n",
      "updated weights after epoch:7/10 \n",
      "[0.20000346 0.20004921 0.09986972]\n",
      "--------------------\n",
      "for epoch >> 8\n",
      "--------------------\n",
      "predicted value after forward pass: \n",
      "[0 1 1 1]\n",
      "error: \n",
      "0    0\n",
      "1    0\n",
      "2    0\n",
      "3    0\n",
      "Name: y, dtype: int64\n",
      "updated weights after epoch:8/10 \n",
      "[0.20000346 0.20004921 0.09986972]\n",
      "--------------------\n",
      "for epoch >> 9\n",
      "--------------------\n",
      "predicted value after forward pass: \n",
      "[0 1 1 1]\n",
      "error: \n",
      "0    0\n",
      "1    0\n",
      "2    0\n",
      "3    0\n",
      "Name: y, dtype: int64\n",
      "updated weights after epoch:9/10 \n",
      "[0.20000346 0.20004921 0.09986972]\n",
      "--------------------\n",
      "for epoch >> 10\n",
      "--------------------\n",
      "predicted value after forward pass: \n",
      "[0 1 1 1]\n",
      "error: \n",
      "0    0\n",
      "1    0\n",
      "2    0\n",
      "3    0\n",
      "Name: y, dtype: int64\n",
      "updated weights after epoch:10/10 \n",
      "[0.20000346 0.20004921 0.09986972]\n"
     ]
    }
   ],
   "source": [
    "x, y =prepare_data(df_OR)\n",
    "ETA =0.1\n",
    "EPOCHS = 10\n",
    "model_or =perceptron(eta =ETA, epochs = EPOCHS)\n",
    "\n",
    "model_or.fit(x,y)"
   ]
  },
  {
   "cell_type": "code",
   "execution_count": 56,
   "id": "4b7f1fb0",
   "metadata": {},
   "outputs": [
    {
     "data": {
      "text/plain": [
       "array([0, 1, 1, 1])"
      ]
     },
     "execution_count": 56,
     "metadata": {},
     "output_type": "execute_result"
    }
   ],
   "source": [
    "model_or.predict(x)"
   ]
  },
  {
   "cell_type": "code",
   "execution_count": 58,
   "id": "02b85323",
   "metadata": {},
   "outputs": [
    {
     "data": {
      "text/plain": [
       "array([0])"
      ]
     },
     "execution_count": 58,
     "metadata": {},
     "output_type": "execute_result"
    }
   ],
   "source": [
    "model_or.predict(x=[[0,0]])"
   ]
  },
  {
   "cell_type": "code",
   "execution_count": 35,
   "id": "e3d28008",
   "metadata": {},
   "outputs": [],
   "source": [
    "x= np.ones((4,2))"
   ]
  },
  {
   "cell_type": "code",
   "execution_count": null,
   "id": "d4ebadb8",
   "metadata": {},
   "outputs": [],
   "source": [
    "np.c"
   ]
  },
  {
   "cell_type": "code",
   "execution_count": 36,
   "id": "9c3f8a8a",
   "metadata": {},
   "outputs": [],
   "source": [
    "obj=perceptron(eta =0.01, epochs =10)"
   ]
  },
  {
   "cell_type": "code",
   "execution_count": 37,
   "id": "f5f90c35",
   "metadata": {},
   "outputs": [
    {
     "data": {
      "text/plain": [
       "0.01"
      ]
     },
     "execution_count": 37,
     "metadata": {},
     "output_type": "execute_result"
    }
   ],
   "source": [
    "obj.eta"
   ]
  },
  {
   "cell_type": "code",
   "execution_count": 38,
   "id": "f8d9101b",
   "metadata": {},
   "outputs": [
    {
     "data": {
      "text/plain": [
       "10"
      ]
     },
     "execution_count": 38,
     "metadata": {},
     "output_type": "execute_result"
    }
   ],
   "source": [
    "obj.epochs"
   ]
  },
  {
   "cell_type": "code",
   "execution_count": 39,
   "id": "242f58fb",
   "metadata": {},
   "outputs": [
    {
     "data": {
      "text/plain": [
       "array([ 4.48252010e-05, -2.86275364e-04, -1.30972176e-04])"
      ]
     },
     "execution_count": 39,
     "metadata": {},
     "output_type": "execute_result"
    }
   ],
   "source": [
    "obj.weights"
   ]
  },
  {
   "cell_type": "code",
   "execution_count": 40,
   "id": "79cfb570",
   "metadata": {},
   "outputs": [
    {
     "data": {
      "text/plain": [
       "array([[1., 1.],\n",
       "       [1., 1.],\n",
       "       [1., 1.],\n",
       "       [1., 1.]])"
      ]
     },
     "execution_count": 40,
     "metadata": {},
     "output_type": "execute_result"
    }
   ],
   "source": [
    "x"
   ]
  },
  {
   "cell_type": "code",
   "execution_count": 41,
   "id": "af9ea255",
   "metadata": {},
   "outputs": [],
   "source": [
    "y= np.ones((4,1))"
   ]
  },
  {
   "cell_type": "code",
   "execution_count": 42,
   "id": "44391a9c",
   "metadata": {},
   "outputs": [
    {
     "data": {
      "text/plain": [
       "array([[1.],\n",
       "       [1.],\n",
       "       [1.],\n",
       "       [1.]])"
      ]
     },
     "execution_count": 42,
     "metadata": {},
     "output_type": "execute_result"
    }
   ],
   "source": [
    "y"
   ]
  },
  {
   "cell_type": "code",
   "execution_count": 43,
   "id": "aa95beb9",
   "metadata": {},
   "outputs": [
    {
     "name": "stdout",
     "output_type": "stream",
     "text": [
      "x with bias: \n",
      "[[ 1.  1. -1.]\n",
      " [ 1.  1. -1.]\n",
      " [ 1.  1. -1.]\n",
      " [ 1.  1. -1.]]\n"
     ]
    }
   ],
   "source": [
    "obj.fit(x,y)"
   ]
  },
  {
   "cell_type": "code",
   "execution_count": null,
   "id": "2373022e",
   "metadata": {},
   "outputs": [],
   "source": []
  }
 ],
 "metadata": {
  "kernelspec": {
   "display_name": "Python 3 (ipykernel)",
   "language": "python",
   "name": "python3"
  },
  "language_info": {
   "codemirror_mode": {
    "name": "ipython",
    "version": 3
   },
   "file_extension": ".py",
   "mimetype": "text/x-python",
   "name": "python",
   "nbconvert_exporter": "python",
   "pygments_lexer": "ipython3",
   "version": "3.8.8"
  }
 },
 "nbformat": 4,
 "nbformat_minor": 5
}
